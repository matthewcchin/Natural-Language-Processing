{
 "cells": [
  {
   "cell_type": "markdown",
   "id": "3c7dd1c9-17d6-409a-91a9-e2be26f379ac",
   "metadata": {},
   "source": [
    "# Assignment 1"
   ]
  },
  {
   "cell_type": "markdown",
   "id": "b57c648c-d8e5-4ac8-a0b8-be7e4fac798d",
   "metadata": {},
   "source": [
    "Mathia Quimpo, Matthew Chin, Wanqiu Zhang"
   ]
  },
  {
   "attachments": {},
   "cell_type": "markdown",
   "id": "4ec6d23a-c13b-4cf5-85a5-9d127a9bb086",
   "metadata": {},
   "source": [
    "## Exploration and Preprocessing"
   ]
  },
  {
   "cell_type": "code",
   "execution_count": 4,
   "id": "b00fc5b3",
   "metadata": {},
   "outputs": [],
   "source": [
    "import pandas as pd\n",
    "import numpy as np\n",
    "import re\n",
    "import os\n",
    "import string\n",
    "import nltk\n",
    "from bs4 import BeautifulSoup\n",
    "from nltk.corpus import stopwords\n",
    "from nltk.tokenize import word_tokenize\n",
    "from nltk.stem import WordNetLemmatizer\n",
    "from vaderSentiment.vaderSentiment import SentimentIntensityAnalyzer\n",
    "from textblob import TextBlob\n",
    "import matplotlib.pyplot as plt"
   ]
  },
  {
   "cell_type": "code",
   "execution_count": 5,
   "id": "7e96cdc0",
   "metadata": {},
   "outputs": [
    {
     "name": "stderr",
     "output_type": "stream",
     "text": [
      "[nltk_data] Downloading package stopwords to\n",
      "[nltk_data]     C:\\Users\\matth\\AppData\\Roaming\\nltk_data...\n",
      "[nltk_data]   Package stopwords is already up-to-date!\n",
      "[nltk_data] Downloading package punkt to\n",
      "[nltk_data]     C:\\Users\\matth\\AppData\\Roaming\\nltk_data...\n",
      "[nltk_data]   Package punkt is already up-to-date!\n",
      "[nltk_data] Downloading package punkt_tab to\n",
      "[nltk_data]     C:\\Users\\matth\\AppData\\Roaming\\nltk_data...\n",
      "[nltk_data]   Package punkt_tab is already up-to-date!\n",
      "[nltk_data] Downloading package wordnet to\n",
      "[nltk_data]     C:\\Users\\matth\\AppData\\Roaming\\nltk_data...\n",
      "[nltk_data]   Package wordnet is already up-to-date!\n"
     ]
    },
    {
     "data": {
      "text/plain": [
       "True"
      ]
     },
     "execution_count": 5,
     "metadata": {},
     "output_type": "execute_result"
    }
   ],
   "source": [
    "# Download necessary resources\n",
    "nltk.download(\"stopwords\")\n",
    "nltk.download(\"punkt\")\n",
    "nltk.download(\"punkt_tab\")\n",
    "nltk.download(\"wordnet\")"
   ]
  },
  {
   "cell_type": "code",
   "execution_count": 6,
   "id": "0e314200",
   "metadata": {},
   "outputs": [
    {
     "name": "stdout",
     "output_type": "stream",
     "text": [
      "   Id   ProductId          UserId                      ProfileName  \\\n",
      "0   1  B001E4KFG0  A3SGXH7AUHU8GW                       delmartian   \n",
      "1   2  B00813GRG4  A1D87F6ZCVE5NK                           dll pa   \n",
      "2   3  B000LQOCH0   ABXLMWJIXXAIN  Natalia Corres \"Natalia Corres\"   \n",
      "3   4  B000UA0QIQ  A395BORC6FGVXV                             Karl   \n",
      "4   5  B006K2ZZ7K  A1UQRSCLF8GW1T    Michael D. Bigham \"M. Wassir\"   \n",
      "\n",
      "   HelpfulnessNumerator  HelpfulnessDenominator  Score        Time  \\\n",
      "0                     1                       1      5  1303862400   \n",
      "1                     0                       0      1  1346976000   \n",
      "2                     1                       1      4  1219017600   \n",
      "3                     3                       3      2  1307923200   \n",
      "4                     0                       0      5  1350777600   \n",
      "\n",
      "                 Summary                                               Text  \n",
      "0  Good Quality Dog Food  I have bought several of the Vitality canned d...  \n",
      "1      Not as Advertised  Product arrived labeled as Jumbo Salted Peanut...  \n",
      "2  \"Delight\" says it all  This is a confection that has been around a fe...  \n",
      "3         Cough Medicine  If you are looking for the secret ingredient i...  \n",
      "4            Great taffy  Great taffy at a great price.  There was a wid...  \n"
     ]
    }
   ],
   "source": [
    "# Load dataset\n",
    "df = pd.read_csv(r\"C:\\Users\\matth\\Desktop\\MSBA\\BSAN 6200\\Reviews.csv\")\n",
    "\n",
    "print(df.head())"
   ]
  },
  {
   "cell_type": "code",
   "execution_count": 7,
   "id": "07dd9dd4",
   "metadata": {},
   "outputs": [
    {
     "name": "stdout",
     "output_type": "stream",
     "text": [
      "Columns in the dataset:\n",
      " Index(['Id', 'ProductId', 'UserId', 'ProfileName', 'HelpfulnessNumerator',\n",
      "       'HelpfulnessDenominator', 'Score', 'Time', 'Summary', 'Text'],\n",
      "      dtype='object')\n"
     ]
    }
   ],
   "source": [
    "# Display column names\n",
    "print(\"Columns in the dataset:\\n\", df.columns)"
   ]
  },
  {
   "cell_type": "code",
   "execution_count": 8,
   "id": "00480cae",
   "metadata": {
    "scrolled": true
   },
   "outputs": [
    {
     "name": "stdout",
     "output_type": "stream",
     "text": [
      "<class 'pandas.core.frame.DataFrame'>\n",
      "RangeIndex: 568454 entries, 0 to 568453\n",
      "Data columns (total 10 columns):\n",
      " #   Column                  Non-Null Count   Dtype \n",
      "---  ------                  --------------   ----- \n",
      " 0   Id                      568454 non-null  int64 \n",
      " 1   ProductId               568454 non-null  object\n",
      " 2   UserId                  568454 non-null  object\n",
      " 3   ProfileName             568428 non-null  object\n",
      " 4   HelpfulnessNumerator    568454 non-null  int64 \n",
      " 5   HelpfulnessDenominator  568454 non-null  int64 \n",
      " 6   Score                   568454 non-null  int64 \n",
      " 7   Time                    568454 non-null  int64 \n",
      " 8   Summary                 568427 non-null  object\n",
      " 9   Text                    568454 non-null  object\n",
      "dtypes: int64(5), object(5)\n",
      "memory usage: 43.4+ MB\n",
      "None\n",
      "                  Id  HelpfulnessNumerator  HelpfulnessDenominator  \\\n",
      "count  568454.000000         568454.000000            568454.00000   \n",
      "mean   284227.500000              1.743817                 2.22881   \n",
      "std    164098.679298              7.636513                 8.28974   \n",
      "min         1.000000              0.000000                 0.00000   \n",
      "25%    142114.250000              0.000000                 0.00000   \n",
      "50%    284227.500000              0.000000                 1.00000   \n",
      "75%    426340.750000              2.000000                 2.00000   \n",
      "max    568454.000000            866.000000               923.00000   \n",
      "\n",
      "               Score          Time  \n",
      "count  568454.000000  5.684540e+05  \n",
      "mean        4.183199  1.296257e+09  \n",
      "std         1.310436  4.804331e+07  \n",
      "min         1.000000  9.393408e+08  \n",
      "25%         4.000000  1.271290e+09  \n",
      "50%         5.000000  1.311120e+09  \n",
      "75%         5.000000  1.332720e+09  \n",
      "max         5.000000  1.351210e+09  \n",
      "Id                         0\n",
      "ProductId                  0\n",
      "UserId                     0\n",
      "ProfileName               26\n",
      "HelpfulnessNumerator       0\n",
      "HelpfulnessDenominator     0\n",
      "Score                      0\n",
      "Time                       0\n",
      "Summary                   27\n",
      "Text                       0\n",
      "dtype: int64\n"
     ]
    }
   ],
   "source": [
    "# Get general info\n",
    "print(df.info())\n",
    "\n",
    "# Descriptive statistics\n",
    "print(df.describe())\n",
    "\n",
    "# Check for missing values\n",
    "print(df.isnull().sum())"
   ]
  },
  {
   "cell_type": "code",
   "execution_count": 9,
   "id": "6ad5af05",
   "metadata": {
    "scrolled": true
   },
   "outputs": [
    {
     "name": "stdout",
     "output_type": "stream",
     "text": [
      "count    568454.000000\n",
      "mean        436.222083\n",
      "std         445.339741\n",
      "min          12.000000\n",
      "25%         179.000000\n",
      "50%         302.000000\n",
      "75%         527.000000\n",
      "max       21409.000000\n",
      "Name: Text_Length, dtype: float64\n"
     ]
    }
   ],
   "source": [
    "# Add a new column for text length\n",
    "df[\"Text_Length\"] = df[\"Text\"].astype(str).apply(len)\n",
    "\n",
    "# Display descriptive statistics for text length\n",
    "print(df[\"Text_Length\"].describe())"
   ]
  },
  {
   "cell_type": "code",
   "execution_count": 10,
   "id": "244d7ad1",
   "metadata": {
    "scrolled": true
   },
   "outputs": [
    {
     "name": "stdout",
     "output_type": "stream",
     "text": [
      "300665    I have used this product before and found it t...\n",
      "167485    The product arrived a bit later than expected ...\n",
      "313460    I never eat this stuff, usually but Walmart ha...\n",
      "7589      It's all natural, no artificial color, no weir...\n",
      "48968     I've not actually used any other filter paper ...\n",
      "146982    I ordered pack of 4. I've been expected good c...\n",
      "538997    I try to avoid artificial sweeteners, but I lo...\n",
      "296558    Timothy's World is your \"average, but nothing ...\n",
      "81877     Imagine doggie treat flavored underarm deodora...\n",
      "413831    For WW, this is great. Don't get me wrong, I s...\n",
      "Name: Text, dtype: object\n"
     ]
    }
   ],
   "source": [
    "# Read a few random review samples\n",
    "print(df[\"Text\"].sample(10, random_state=45))"
   ]
  },
  {
   "cell_type": "code",
   "execution_count": 11,
   "id": "de6b5f1a",
   "metadata": {},
   "outputs": [],
   "source": [
    "# Initialize lemmatizer\n",
    "lemmatizer = WordNetLemmatizer()\n",
    "stop_words = set(stopwords.words(\"english\"))"
   ]
  },
  {
   "cell_type": "code",
   "execution_count": 12,
   "id": "a83a62dd",
   "metadata": {},
   "outputs": [],
   "source": [
    "# Text cleaning function\n",
    "def clean_text(text):\n",
    "    if not isinstance(text, str):\n",
    "        return \"\"  # Handle missing values\n",
    "    \n",
    "    # 1. Remove HTML tags using a regex pattern\n",
    "    text = re.sub(r\"<.*?>\", \"\", text)  # Remove HTML tags\n",
    "\n",
    "    # 2. Replace URLs with a placeholder \"URL\"\n",
    "    text = re.sub(r'http[s]?://\\S+', 'URL', text)\n",
    "\n",
    "    # 3. Convert to lowercase\n",
    "    text = text.lower()\n",
    "\n",
    "    # 4. Remove special characters, numbers, and punctuation\n",
    "    text = re.sub(r\"[^a-z\\s]\", \"\", text)\n",
    "\n",
    "    # 5. Tokenize the text into words\n",
    "    words = word_tokenize(text)\n",
    "\n",
    "    # 6. Remove stopwords and lemmatize\n",
    "    cleaned_text = [lemmatizer.lemmatize(word) for word in words if word not in stop_words]\n",
    "\n",
    "    # 7. Replace multiple spaces with a single space\n",
    "    cleaned_text = \" \".join(cleaned_text)\n",
    "    cleaned_text = re.sub(r'\\s+', ' ', cleaned_text).strip()\n",
    "\n",
    "    return cleaned_text"
   ]
  },
  {
   "cell_type": "code",
   "execution_count": 13,
   "id": "33dba9d0-56cd-4dde-b74b-4646814cc44a",
   "metadata": {},
   "outputs": [],
   "source": [
    "# Select 100 random rows\n",
    "random_sample = df.sample(100)"
   ]
  },
  {
   "cell_type": "code",
   "execution_count": 14,
   "id": "67025b8f",
   "metadata": {
    "scrolled": true
   },
   "outputs": [],
   "source": [
    "# Apply the updated cleaning function to the Text column\n",
    "random_sample[\"Cleaned_Text\"] = random_sample[\"Text\"].apply(clean_text)"
   ]
  },
  {
   "cell_type": "code",
   "execution_count": 15,
   "id": "dd87b560",
   "metadata": {
    "scrolled": true
   },
   "outputs": [
    {
     "name": "stdout",
     "output_type": "stream",
     "text": [
      "                                                     Text  \\\n",
      "15624   I must say that my dog and all at the dog park...   \n",
      "518000  If you read my other reviews of Marshalls Cree...   \n",
      "120098  Just got a shipment of bulk candy for Christma...   \n",
      "479991  This is definately chihuahua puppy approved. I...   \n",
      "212266  This soup has a few shreds of chicken meat in ...   \n",
      "\n",
      "                                             Cleaned_Text  \n",
      "15624   must say dog dog park love treat even fussy bo...  \n",
      "518000  read review marshall creek herb see bad experi...  \n",
      "120098  got shipment bulk candy christmas red white ho...  \n",
      "479991  definately chihuahua puppy approved like fact ...  \n",
      "212266  soup shred chicken meat hardly chunk label pro...  \n"
     ]
    }
   ],
   "source": [
    "# Spot-checking\n",
    "spotcheck_sample = random_sample[[\"Text\", \"Cleaned_Text\"]].sample(5)\n",
    "print(spotcheck_sample)"
   ]
  },
  {
   "cell_type": "markdown",
   "id": "7fb14eb0-b67c-4a46-a83f-c567d7f50a7a",
   "metadata": {},
   "source": [
    "## VADER"
   ]
  },
  {
   "cell_type": "code",
   "execution_count": 17,
   "id": "35cc4ff2",
   "metadata": {},
   "outputs": [],
   "source": [
    "# Initialize VADER Sentiment Analyzer\n",
    "analyzer = SentimentIntensityAnalyzer()"
   ]
  },
  {
   "cell_type": "code",
   "execution_count": 18,
   "id": "dff934f6-2ab3-49b6-9f69-15b8ba2e190a",
   "metadata": {},
   "outputs": [],
   "source": [
    "# Tokenize the Cleaned_Text once and store it in a new column 'Tokens'\n",
    "random_sample['Tokens'] = random_sample['Cleaned_Text'].apply(word_tokenize)"
   ]
  },
  {
   "cell_type": "code",
   "execution_count": 19,
   "id": "4afabd5e",
   "metadata": {},
   "outputs": [
    {
     "name": "stdout",
     "output_type": "stream",
     "text": [
      "                                                     Text  \\\n",
      "122839  I see that there are presently 30 reviews for ...   \n",
      "514047  I can't believe there aren't any other reviews...   \n",
      "456637  We first had this from our neighbourhood speci...   \n",
      "424675  I thought the bag would be much bigger for the...   \n",
      "537412  I searched out my favorite KIND bars on Amazon...   \n",
      "\n",
      "                                             Cleaned_Text  \\\n",
      "122839  see presently review hodgson mill barley bread...   \n",
      "514047  cant believe arent review yet hand best bake l...   \n",
      "456637  first neighbourhood specialty grocery wife moc...   \n",
      "424675  thought bag would much bigger price since get ...   \n",
      "537412  searched favorite kind bar amazon buying every...   \n",
      "\n",
      "                                                   Tokens  Word_Count  \\\n",
      "122839  [see, presently, review, hodgson, mill, barley...       110.0   \n",
      "514047  [cant, believe, arent, review, yet, hand, best...        61.0   \n",
      "456637  [first, neighbourhood, specialty, grocery, wif...        20.0   \n",
      "424675  [thought, bag, would, much, bigger, price, sin...        20.0   \n",
      "537412  [searched, favorite, kind, bar, amazon, buying...       115.0   \n",
      "\n",
      "        Unique_Word_Count  Avg_Word_Length  Sentiment_Score  \n",
      "122839               93.0         5.318182           0.9864  \n",
      "514047               52.0         5.049180           0.9154  \n",
      "456637               20.0         5.750000           0.7269  \n",
      "424675               19.0         5.100000           0.2944  \n",
      "537412              101.0         5.313043           0.9877  \n"
     ]
    }
   ],
   "source": [
    "# Apply Feature Engineering on the pre-tokenized text\n",
    "def extract_features_from_tokens(tokens):\n",
    "    word_count = len(tokens)\n",
    "    unique_word_count = len(set(tokens))\n",
    "    avg_word_length = sum(len(word) for word in tokens) / word_count if word_count else 0\n",
    "\n",
    "    # Sentiment analysis with VADER\n",
    "    sentiment = analyzer.polarity_scores(\" \".join(tokens))  # VADER expects a string, not tokens\n",
    "\n",
    "    return [word_count, unique_word_count, avg_word_length, sentiment['compound']]\n",
    "\n",
    "# Now apply the feature extraction on the 'Tokens' column (pre-tokenized)\n",
    "random_sample[['Word_Count', 'Unique_Word_Count', 'Avg_Word_Length', 'Sentiment_Score']] = random_sample['Tokens'].apply(\n",
    "    lambda x: pd.Series(extract_features_from_tokens(x)))\n",
    "\n",
    "# Spot-check the results\n",
    "print(random_sample[['Text', 'Cleaned_Text', 'Tokens', 'Word_Count', 'Unique_Word_Count', 'Avg_Word_Length', 'Sentiment_Score']].head())\n"
   ]
  },
  {
   "cell_type": "code",
   "execution_count": 20,
   "id": "afb58b37",
   "metadata": {
    "scrolled": true
   },
   "outputs": [
    {
     "name": "stdout",
     "output_type": "stream",
     "text": [
      "                                             Cleaned_Text  Sentiment_Score  \\\n",
      "122839  see presently review hodgson mill barley bread...           0.9864   \n",
      "514047  cant believe arent review yet hand best bake l...           0.9154   \n",
      "456637  first neighbourhood specialty grocery wife moc...           0.7269   \n",
      "424675  thought bag would much bigger price since get ...           0.2944   \n",
      "537412  searched favorite kind bar amazon buying every...           0.9877   \n",
      "\n",
      "       Sentiment_Label  \n",
      "122839        Positive  \n",
      "514047        Positive  \n",
      "456637        Positive  \n",
      "424675        Positive  \n",
      "537412        Positive  \n"
     ]
    }
   ],
   "source": [
    "def classify_sentiment(sentiment_score):\n",
    "    if sentiment_score > 0.1:\n",
    "        return \"Positive\"\n",
    "    elif sentiment_score < -0.1:\n",
    "        return \"Negative\"\n",
    "    else:\n",
    "        return \"Neutral\"\n",
    "\n",
    "# Apply sentiment classification based on VADER sentiment score\n",
    "random_sample['Sentiment_Label'] = random_sample['Sentiment_Score'].apply(classify_sentiment)\n",
    "\n",
    "# Show some of the classified sentiments\n",
    "print(random_sample[['Cleaned_Text', 'Sentiment_Score', 'Sentiment_Label']].head())"
   ]
  },
  {
   "cell_type": "code",
   "execution_count": 21,
   "id": "71ca08b8",
   "metadata": {},
   "outputs": [],
   "source": [
    "# Extract sentiment predictions from VADER\n",
    "random_sample['VADER_Sentiment'] = random_sample['Sentiment_Score'].apply(\n",
    "    lambda score: 'Positive' if score > 0 else 'Negative' if score < 0 else 'Neutral'\n",
    ")"
   ]
  },
  {
   "cell_type": "code",
   "execution_count": 22,
   "id": "d0613884",
   "metadata": {},
   "outputs": [
    {
     "name": "stdout",
     "output_type": "stream",
     "text": [
      "                                                     Text VADER_Sentiment\n",
      "122839  I see that there are presently 30 reviews for ...        Positive\n",
      "514047  I can't believe there aren't any other reviews...        Positive\n",
      "234838  My Westie liked this at first, but it didn't r...        Negative\n",
      "130247  We have used several olive oils, this one is v...        Positive\n",
      "537883  I have been drinking this tea blend for over a...        Positive\n"
     ]
    }
   ],
   "source": [
    "# Spot-check several examples\n",
    "spotcheck_sample = random_sample[['Text', 'VADER_Sentiment']].sample(5, random_state=45)\n",
    "\n",
    "print(spotcheck_sample)"
   ]
  },
  {
   "cell_type": "code",
   "execution_count": 23,
   "id": "1762082e",
   "metadata": {
    "scrolled": true
   },
   "outputs": [
    {
     "name": "stdout",
     "output_type": "stream",
     "text": [
      "Review Text: I see that there are presently 30 reviews for this Hodgson Mill Barley Bread Mix, so why, you may ask, do we need another?<br /><br />Glad you asked. I ordered this bread for a few reasons:<br /><br />1) To save a few bucks over store bought<br /><br />2) To always have on hand in pantry<br /><br />3) To enjoy the aroma of fresh baked bread in my home<br /><br />When it was time to bake this bread, I proofed the yeast & it bubbled up.  Just what you want to see. I kneaded the dough for the time stated, & covered it as instructed. When I checked it after 1 1/2 hrs., it had not risen at all, yet I had done all the right things. So I punched it down, fitted it flat onto a quarter size sheet pan, sprinkled it w/rosemary, garlic, black pepper & extra virgin olive oil.<br /><br />It turned out a delicious flatbread, but what went wrong?<br /><br />I called Hodgson Mill, turns out my house temp. of 64 degrees is good for the heat bill but not for bread. The rep was great, told me to preheat oven to 200 deg. for 2 min. then turn off oven. Let dough rise in oven.<br /><br />Great bread mix, fast delivery by Amazon, fair price & great customer service. I am sold.<br /><br />Just ordered more. You should too.  Enjoy your bread.\n",
      "VADER Sentiment: Positive\n",
      "--------------------------------------------------\n",
      "Review Text: I can't believe there aren't any other reviews here yet. These are hands down the best. I bake them a little under done and they are like molten chocolate cakes. Would be great with low carb ice cream. Thrifty's makes some very good ones (even a peanut butter fudge swirl). I swirl almond butter, or splenda sweetened cream cheese, or both into these before baking.  I make some type of low carb dessert whenever we're faced with a holiday or birthday so that we have a legal treat. It helps us to avoid the \"illegal\" ones. Don't hesitate to try these if you're a low carber and need a treat.\n",
      "VADER Sentiment: Positive\n",
      "--------------------------------------------------\n",
      "Review Text: My Westie liked this at first, but it didn't really hold his interest.  Plus, you have to fill the bottle about half full.  He gets bored after removing a few items, and then you either have to waste the food by replacing it with smellier food, or just leave it sitting around.  I think I just need to try with food he enjoys more, but I wanted the point to be that he would eat his regular food from this toy.\n",
      "VADER Sentiment: Negative\n",
      "--------------------------------------------------\n",
      "Review Text: We have used several olive oils, this one is very nice. I stopped my automatic delivery when the price was automatically increased. Anyone that I have given this to as a gift, also enjoyed it.\n",
      "VADER Sentiment: Positive\n",
      "--------------------------------------------------\n",
      "Review Text: I have been drinking this tea blend for over a year and never grow tired of it.  Love the blended flavor and the oil of bergamot.  Being organic and fair trade certified is also a plus. To those of you who have tasted earl grey black and green teas separately and are curious about the mix--I would say the black tea flavor predominates, but the result is an extremely satisfying tea blend.\n",
      "VADER Sentiment: Positive\n",
      "--------------------------------------------------\n"
     ]
    }
   ],
   "source": [
    "# To manually review the sentiment, you can check the first few examples\n",
    "for idx, row in spotcheck_sample.iterrows():\n",
    "    print(f\"Review Text: {row['Text']}\")\n",
    "    print(f\"VADER Sentiment: {row['VADER_Sentiment']}\")\n",
    "    print(\"-\" * 50)"
   ]
  },
  {
   "cell_type": "markdown",
   "id": "8fe8007e-80ac-48dc-8c6d-a2a753d144d7",
   "metadata": {},
   "source": [
    "## TextBlob"
   ]
  },
  {
   "cell_type": "code",
   "execution_count": 25,
   "id": "14af215f-1f19-46da-99ab-6b66c6b9a481",
   "metadata": {
    "scrolled": true
   },
   "outputs": [
    {
     "data": {
      "text/html": [
       "<div>\n",
       "<style scoped>\n",
       "    .dataframe tbody tr th:only-of-type {\n",
       "        vertical-align: middle;\n",
       "    }\n",
       "\n",
       "    .dataframe tbody tr th {\n",
       "        vertical-align: top;\n",
       "    }\n",
       "\n",
       "    .dataframe thead th {\n",
       "        text-align: right;\n",
       "    }\n",
       "</style>\n",
       "<table border=\"1\" class=\"dataframe\">\n",
       "  <thead>\n",
       "    <tr style=\"text-align: right;\">\n",
       "      <th></th>\n",
       "      <th>Id</th>\n",
       "      <th>ProductId</th>\n",
       "      <th>UserId</th>\n",
       "      <th>ProfileName</th>\n",
       "      <th>HelpfulnessNumerator</th>\n",
       "      <th>HelpfulnessDenominator</th>\n",
       "      <th>Score</th>\n",
       "      <th>Time</th>\n",
       "      <th>Summary</th>\n",
       "      <th>Text</th>\n",
       "      <th>...</th>\n",
       "      <th>Tokens</th>\n",
       "      <th>Word_Count</th>\n",
       "      <th>Unique_Word_Count</th>\n",
       "      <th>Avg_Word_Length</th>\n",
       "      <th>Sentiment_Score</th>\n",
       "      <th>Sentiment_Label</th>\n",
       "      <th>VADER_Sentiment</th>\n",
       "      <th>TextBlob_Polarity</th>\n",
       "      <th>TextBlob_Subjectivity</th>\n",
       "      <th>TextBlob_Sentiment</th>\n",
       "    </tr>\n",
       "  </thead>\n",
       "  <tbody>\n",
       "    <tr>\n",
       "      <th>122839</th>\n",
       "      <td>122840</td>\n",
       "      <td>B000FDMLV8</td>\n",
       "      <td>AQIGLD8WX496F</td>\n",
       "      <td>Donna</td>\n",
       "      <td>9</td>\n",
       "      <td>9</td>\n",
       "      <td>5</td>\n",
       "      <td>1324425600</td>\n",
       "      <td>Good Bread &amp; More...</td>\n",
       "      <td>I see that there are presently 30 reviews for ...</td>\n",
       "      <td>...</td>\n",
       "      <td>[see, presently, review, hodgson, mill, barley...</td>\n",
       "      <td>110.0</td>\n",
       "      <td>93.0</td>\n",
       "      <td>5.318182</td>\n",
       "      <td>0.9864</td>\n",
       "      <td>Positive</td>\n",
       "      <td>Positive</td>\n",
       "      <td>0.385289</td>\n",
       "      <td>0.521003</td>\n",
       "      <td>Positive</td>\n",
       "    </tr>\n",
       "    <tr>\n",
       "      <th>514047</th>\n",
       "      <td>514048</td>\n",
       "      <td>B000WMU2HM</td>\n",
       "      <td>A1XUORJPX654TO</td>\n",
       "      <td>Teresa L. Varnhagen \"ttvarnhagen\"</td>\n",
       "      <td>11</td>\n",
       "      <td>11</td>\n",
       "      <td>5</td>\n",
       "      <td>1207180800</td>\n",
       "      <td>best low carb brownies ever</td>\n",
       "      <td>I can't believe there aren't any other reviews...</td>\n",
       "      <td>...</td>\n",
       "      <td>[cant, believe, arent, review, yet, hand, best...</td>\n",
       "      <td>61.0</td>\n",
       "      <td>52.0</td>\n",
       "      <td>5.049180</td>\n",
       "      <td>0.9154</td>\n",
       "      <td>Positive</td>\n",
       "      <td>Positive</td>\n",
       "      <td>0.223611</td>\n",
       "      <td>0.416667</td>\n",
       "      <td>Positive</td>\n",
       "    </tr>\n",
       "    <tr>\n",
       "      <th>456637</th>\n",
       "      <td>456638</td>\n",
       "      <td>B000JCR51Q</td>\n",
       "      <td>A1Q8RKN3R8UVQT</td>\n",
       "      <td>Matthew Asnip \"bibliophile\"</td>\n",
       "      <td>4</td>\n",
       "      <td>4</td>\n",
       "      <td>5</td>\n",
       "      <td>1218931200</td>\n",
       "      <td>Good Bacon!</td>\n",
       "      <td>We first had this from our neighbourhood speci...</td>\n",
       "      <td>...</td>\n",
       "      <td>[first, neighbourhood, specialty, grocery, wif...</td>\n",
       "      <td>20.0</td>\n",
       "      <td>20.0</td>\n",
       "      <td>5.750000</td>\n",
       "      <td>0.7269</td>\n",
       "      <td>Positive</td>\n",
       "      <td>Positive</td>\n",
       "      <td>0.516667</td>\n",
       "      <td>0.244444</td>\n",
       "      <td>Positive</td>\n",
       "    </tr>\n",
       "    <tr>\n",
       "      <th>424675</th>\n",
       "      <td>424676</td>\n",
       "      <td>B007HEH712</td>\n",
       "      <td>A2ZGM2SSLRLKLX</td>\n",
       "      <td>Joel A. Glovier \"JAG\"</td>\n",
       "      <td>1</td>\n",
       "      <td>1</td>\n",
       "      <td>2</td>\n",
       "      <td>1350864000</td>\n",
       "      <td>Delicious, but overpriced.</td>\n",
       "      <td>I thought the bag would be much bigger for the...</td>\n",
       "      <td>...</td>\n",
       "      <td>[thought, bag, would, much, bigger, price, sin...</td>\n",
       "      <td>20.0</td>\n",
       "      <td>19.0</td>\n",
       "      <td>5.100000</td>\n",
       "      <td>0.2944</td>\n",
       "      <td>Positive</td>\n",
       "      <td>Positive</td>\n",
       "      <td>0.062500</td>\n",
       "      <td>0.725000</td>\n",
       "      <td>Positive</td>\n",
       "    </tr>\n",
       "    <tr>\n",
       "      <th>537412</th>\n",
       "      <td>537413</td>\n",
       "      <td>B0034EFIYC</td>\n",
       "      <td>A3K0W4H20MTDRV</td>\n",
       "      <td>MDG</td>\n",
       "      <td>0</td>\n",
       "      <td>0</td>\n",
       "      <td>3</td>\n",
       "      <td>1348963200</td>\n",
       "      <td>A little stale...but I'll give them another ch...</td>\n",
       "      <td>I searched out my favorite KIND bars on Amazon...</td>\n",
       "      <td>...</td>\n",
       "      <td>[searched, favorite, kind, bar, amazon, buying...</td>\n",
       "      <td>115.0</td>\n",
       "      <td>101.0</td>\n",
       "      <td>5.313043</td>\n",
       "      <td>0.9877</td>\n",
       "      <td>Positive</td>\n",
       "      <td>Positive</td>\n",
       "      <td>0.202628</td>\n",
       "      <td>0.598333</td>\n",
       "      <td>Positive</td>\n",
       "    </tr>\n",
       "    <tr>\n",
       "      <th>...</th>\n",
       "      <td>...</td>\n",
       "      <td>...</td>\n",
       "      <td>...</td>\n",
       "      <td>...</td>\n",
       "      <td>...</td>\n",
       "      <td>...</td>\n",
       "      <td>...</td>\n",
       "      <td>...</td>\n",
       "      <td>...</td>\n",
       "      <td>...</td>\n",
       "      <td>...</td>\n",
       "      <td>...</td>\n",
       "      <td>...</td>\n",
       "      <td>...</td>\n",
       "      <td>...</td>\n",
       "      <td>...</td>\n",
       "      <td>...</td>\n",
       "      <td>...</td>\n",
       "      <td>...</td>\n",
       "      <td>...</td>\n",
       "      <td>...</td>\n",
       "    </tr>\n",
       "    <tr>\n",
       "      <th>175169</th>\n",
       "      <td>175170</td>\n",
       "      <td>B0028U7YCW</td>\n",
       "      <td>A2I5MRK2HBO0JC</td>\n",
       "      <td>Angie</td>\n",
       "      <td>6</td>\n",
       "      <td>6</td>\n",
       "      <td>5</td>\n",
       "      <td>1315612800</td>\n",
       "      <td>Delicious &amp; So Healthy!</td>\n",
       "      <td>In an effort to save during hard times, we dec...</td>\n",
       "      <td>...</td>\n",
       "      <td>[effort, save, hard, time, decided, turn, once...</td>\n",
       "      <td>89.0</td>\n",
       "      <td>77.0</td>\n",
       "      <td>5.752809</td>\n",
       "      <td>0.9806</td>\n",
       "      <td>Positive</td>\n",
       "      <td>Positive</td>\n",
       "      <td>0.348636</td>\n",
       "      <td>0.618535</td>\n",
       "      <td>Positive</td>\n",
       "    </tr>\n",
       "    <tr>\n",
       "      <th>124242</th>\n",
       "      <td>124243</td>\n",
       "      <td>B005ZBZM52</td>\n",
       "      <td>A1IBQ6DTY0Z8IG</td>\n",
       "      <td>Snaby</td>\n",
       "      <td>0</td>\n",
       "      <td>0</td>\n",
       "      <td>5</td>\n",
       "      <td>1340236800</td>\n",
       "      <td>Fantastic K-cup!!</td>\n",
       "      <td>Bought a box of these from BJs before I found ...</td>\n",
       "      <td>...</td>\n",
       "      <td>[bought, box, bjs, found, amazon, let, tell, o...</td>\n",
       "      <td>129.0</td>\n",
       "      <td>105.0</td>\n",
       "      <td>5.465116</td>\n",
       "      <td>0.9921</td>\n",
       "      <td>Positive</td>\n",
       "      <td>Positive</td>\n",
       "      <td>0.287667</td>\n",
       "      <td>0.569667</td>\n",
       "      <td>Positive</td>\n",
       "    </tr>\n",
       "    <tr>\n",
       "      <th>379150</th>\n",
       "      <td>379151</td>\n",
       "      <td>B001TM70XS</td>\n",
       "      <td>A2KOSZTZQMW2PC</td>\n",
       "      <td>JT</td>\n",
       "      <td>0</td>\n",
       "      <td>0</td>\n",
       "      <td>5</td>\n",
       "      <td>1313971200</td>\n",
       "      <td>How do I get cooking like this at home?</td>\n",
       "      <td>Seriously, this stuff actually looks like some...</td>\n",
       "      <td>...</td>\n",
       "      <td>[seriously, stuff, actually, look, like, somet...</td>\n",
       "      <td>49.0</td>\n",
       "      <td>45.0</td>\n",
       "      <td>5.204082</td>\n",
       "      <td>0.6822</td>\n",
       "      <td>Positive</td>\n",
       "      <td>Positive</td>\n",
       "      <td>-0.150000</td>\n",
       "      <td>0.408333</td>\n",
       "      <td>Negative</td>\n",
       "    </tr>\n",
       "    <tr>\n",
       "      <th>518000</th>\n",
       "      <td>518001</td>\n",
       "      <td>B000N8OJDS</td>\n",
       "      <td>ACMLHXGMNH15J</td>\n",
       "      <td>Chris Stallings \"stallingsinsurance.com\"</td>\n",
       "      <td>9</td>\n",
       "      <td>10</td>\n",
       "      <td>3</td>\n",
       "      <td>1245628800</td>\n",
       "      <td>Marshalls Creek Thyme</td>\n",
       "      <td>If you read my other reviews of Marshalls Cree...</td>\n",
       "      <td>...</td>\n",
       "      <td>[read, review, marshall, creek, herb, see, bad...</td>\n",
       "      <td>60.0</td>\n",
       "      <td>51.0</td>\n",
       "      <td>5.116667</td>\n",
       "      <td>0.7087</td>\n",
       "      <td>Positive</td>\n",
       "      <td>Positive</td>\n",
       "      <td>0.171591</td>\n",
       "      <td>0.514015</td>\n",
       "      <td>Positive</td>\n",
       "    </tr>\n",
       "    <tr>\n",
       "      <th>396623</th>\n",
       "      <td>396624</td>\n",
       "      <td>B0001R05KC</td>\n",
       "      <td>AAU7T7FHD79ME</td>\n",
       "      <td>Sandboarder</td>\n",
       "      <td>1</td>\n",
       "      <td>1</td>\n",
       "      <td>2</td>\n",
       "      <td>1330214400</td>\n",
       "      <td>Can we say stale</td>\n",
       "      <td>Wow  thought this would be a Fun mix of candy....</td>\n",
       "      <td>...</td>\n",
       "      <td>[wow, thought, would, fun, mix, candy, boy, wr...</td>\n",
       "      <td>44.0</td>\n",
       "      <td>35.0</td>\n",
       "      <td>5.068182</td>\n",
       "      <td>0.7269</td>\n",
       "      <td>Positive</td>\n",
       "      <td>Positive</td>\n",
       "      <td>-0.111111</td>\n",
       "      <td>0.722222</td>\n",
       "      <td>Negative</td>\n",
       "    </tr>\n",
       "  </tbody>\n",
       "</table>\n",
       "<p>100 rows × 22 columns</p>\n",
       "</div>"
      ],
      "text/plain": [
       "            Id   ProductId          UserId  \\\n",
       "122839  122840  B000FDMLV8   AQIGLD8WX496F   \n",
       "514047  514048  B000WMU2HM  A1XUORJPX654TO   \n",
       "456637  456638  B000JCR51Q  A1Q8RKN3R8UVQT   \n",
       "424675  424676  B007HEH712  A2ZGM2SSLRLKLX   \n",
       "537412  537413  B0034EFIYC  A3K0W4H20MTDRV   \n",
       "...        ...         ...             ...   \n",
       "175169  175170  B0028U7YCW  A2I5MRK2HBO0JC   \n",
       "124242  124243  B005ZBZM52  A1IBQ6DTY0Z8IG   \n",
       "379150  379151  B001TM70XS  A2KOSZTZQMW2PC   \n",
       "518000  518001  B000N8OJDS   ACMLHXGMNH15J   \n",
       "396623  396624  B0001R05KC   AAU7T7FHD79ME   \n",
       "\n",
       "                                     ProfileName  HelpfulnessNumerator  \\\n",
       "122839                                     Donna                     9   \n",
       "514047         Teresa L. Varnhagen \"ttvarnhagen\"                    11   \n",
       "456637               Matthew Asnip \"bibliophile\"                     4   \n",
       "424675                     Joel A. Glovier \"JAG\"                     1   \n",
       "537412                                       MDG                     0   \n",
       "...                                          ...                   ...   \n",
       "175169                                     Angie                     6   \n",
       "124242                                     Snaby                     0   \n",
       "379150                                        JT                     0   \n",
       "518000  Chris Stallings \"stallingsinsurance.com\"                     9   \n",
       "396623                               Sandboarder                     1   \n",
       "\n",
       "        HelpfulnessDenominator  Score        Time  \\\n",
       "122839                       9      5  1324425600   \n",
       "514047                      11      5  1207180800   \n",
       "456637                       4      5  1218931200   \n",
       "424675                       1      2  1350864000   \n",
       "537412                       0      3  1348963200   \n",
       "...                        ...    ...         ...   \n",
       "175169                       6      5  1315612800   \n",
       "124242                       0      5  1340236800   \n",
       "379150                       0      5  1313971200   \n",
       "518000                      10      3  1245628800   \n",
       "396623                       1      2  1330214400   \n",
       "\n",
       "                                                  Summary  \\\n",
       "122839                               Good Bread & More...   \n",
       "514047                        best low carb brownies ever   \n",
       "456637                                        Good Bacon!   \n",
       "424675                         Delicious, but overpriced.   \n",
       "537412  A little stale...but I'll give them another ch...   \n",
       "...                                                   ...   \n",
       "175169                            Delicious & So Healthy!   \n",
       "124242                                  Fantastic K-cup!!   \n",
       "379150            How do I get cooking like this at home?   \n",
       "518000                              Marshalls Creek Thyme   \n",
       "396623                                   Can we say stale   \n",
       "\n",
       "                                                     Text  ...  \\\n",
       "122839  I see that there are presently 30 reviews for ...  ...   \n",
       "514047  I can't believe there aren't any other reviews...  ...   \n",
       "456637  We first had this from our neighbourhood speci...  ...   \n",
       "424675  I thought the bag would be much bigger for the...  ...   \n",
       "537412  I searched out my favorite KIND bars on Amazon...  ...   \n",
       "...                                                   ...  ...   \n",
       "175169  In an effort to save during hard times, we dec...  ...   \n",
       "124242  Bought a box of these from BJs before I found ...  ...   \n",
       "379150  Seriously, this stuff actually looks like some...  ...   \n",
       "518000  If you read my other reviews of Marshalls Cree...  ...   \n",
       "396623  Wow  thought this would be a Fun mix of candy....  ...   \n",
       "\n",
       "                                                   Tokens Word_Count  \\\n",
       "122839  [see, presently, review, hodgson, mill, barley...      110.0   \n",
       "514047  [cant, believe, arent, review, yet, hand, best...       61.0   \n",
       "456637  [first, neighbourhood, specialty, grocery, wif...       20.0   \n",
       "424675  [thought, bag, would, much, bigger, price, sin...       20.0   \n",
       "537412  [searched, favorite, kind, bar, amazon, buying...      115.0   \n",
       "...                                                   ...        ...   \n",
       "175169  [effort, save, hard, time, decided, turn, once...       89.0   \n",
       "124242  [bought, box, bjs, found, amazon, let, tell, o...      129.0   \n",
       "379150  [seriously, stuff, actually, look, like, somet...       49.0   \n",
       "518000  [read, review, marshall, creek, herb, see, bad...       60.0   \n",
       "396623  [wow, thought, would, fun, mix, candy, boy, wr...       44.0   \n",
       "\n",
       "       Unique_Word_Count  Avg_Word_Length  Sentiment_Score  Sentiment_Label  \\\n",
       "122839              93.0         5.318182           0.9864         Positive   \n",
       "514047              52.0         5.049180           0.9154         Positive   \n",
       "456637              20.0         5.750000           0.7269         Positive   \n",
       "424675              19.0         5.100000           0.2944         Positive   \n",
       "537412             101.0         5.313043           0.9877         Positive   \n",
       "...                  ...              ...              ...              ...   \n",
       "175169              77.0         5.752809           0.9806         Positive   \n",
       "124242             105.0         5.465116           0.9921         Positive   \n",
       "379150              45.0         5.204082           0.6822         Positive   \n",
       "518000              51.0         5.116667           0.7087         Positive   \n",
       "396623              35.0         5.068182           0.7269         Positive   \n",
       "\n",
       "        VADER_Sentiment TextBlob_Polarity TextBlob_Subjectivity  \\\n",
       "122839         Positive          0.385289              0.521003   \n",
       "514047         Positive          0.223611              0.416667   \n",
       "456637         Positive          0.516667              0.244444   \n",
       "424675         Positive          0.062500              0.725000   \n",
       "537412         Positive          0.202628              0.598333   \n",
       "...                 ...               ...                   ...   \n",
       "175169         Positive          0.348636              0.618535   \n",
       "124242         Positive          0.287667              0.569667   \n",
       "379150         Positive         -0.150000              0.408333   \n",
       "518000         Positive          0.171591              0.514015   \n",
       "396623         Positive         -0.111111              0.722222   \n",
       "\n",
       "        TextBlob_Sentiment  \n",
       "122839            Positive  \n",
       "514047            Positive  \n",
       "456637            Positive  \n",
       "424675            Positive  \n",
       "537412            Positive  \n",
       "...                    ...  \n",
       "175169            Positive  \n",
       "124242            Positive  \n",
       "379150            Negative  \n",
       "518000            Positive  \n",
       "396623            Negative  \n",
       "\n",
       "[100 rows x 22 columns]"
      ]
     },
     "execution_count": 25,
     "metadata": {},
     "output_type": "execute_result"
    }
   ],
   "source": [
    "def analyze_sentiment(text):\n",
    "    blob = TextBlob(text)\n",
    "    return blob.sentiment.polarity, blob.sentiment.subjectivity, 'Positive' if blob.sentiment.polarity > 0 else ('Negative' if blob.sentiment.polarity < 0 else 'Neutral')\n",
    "\n",
    "# Apply the function and append new columns\n",
    "random_sample[['TextBlob_Polarity', 'TextBlob_Subjectivity', 'TextBlob_Sentiment']] = random_sample['Cleaned_Text'].apply(lambda x: pd.Series(analyze_sentiment(x)))\n",
    "\n",
    "# Display the updated DataFrame\n",
    "random_sample"
   ]
  },
  {
   "cell_type": "code",
   "execution_count": 62,
   "id": "a3795eca-40da-4891-824a-ca81bbfd5809",
   "metadata": {},
   "outputs": [
    {
     "name": "stdout",
     "output_type": "stream",
     "text": [
      "                                                                                                                                                                                                                                                                                                                                                                                                                                                                                                                                                                                                                                                                                                                                                                                                                                                                                                                                                                                                       Text  \\\n",
      "322042  I bought this for my Boston Terrier, Cookie, who can destroy most toys in less than an hour.  I thought the idea of a treat inside would slow her down a little.  Unfortunately, the treat did not suit her finicky palate, and she simply worked it out of the ball and left it on the floor.  The ball itself, however, has turned out to be Cookie-proof.  Months after the purchase, she still plays with it.  It bounces nicely, and doesn't roll under the furniture as much as other balls.  I've also found that if I stuff it with her regular treats (small bits of chicken jerky) or her kibble, it does keep her occupied for a while.  Although she chews on it, I can find very little evidence of toothmarks, so whatever this is made of is pretty strong.  I would give this more stars if it was easier to load, but then it would probably be easier for her to un-load.  Overall, a tough little toy, and one of Cookie's favorites.  A little pricey, but hey, she's worth it!   \n",
      "113502                                                                                                                                                                                                                                                                                                                                                                                                                                                                                                                                                                                                                                                                                                                                           Blue Weber agave is the lowest glycemic index of agave nectar.  This is 100% blue weber, a great flavor, and price.  I use it in tea, and baking, or just about any where I would use a bit of sugar.  The texture and flavor is like honey.  Great stuff!   \n",
      "379150                                                                                                                                                                                                                                                                                                                                                                                                                                                                                                                                         Seriously, this stuff actually looks like something humans could eat.  When you open the can, it looks and smells like real (canned) food, not pressed and formed mystery meat or worse, meat paste.  Gluten-free, which has helped reduce the amount of cat barf left in random places or hidden behind couches, etc.  We buy two or three varieties at a time and rotate it through so the cats don't get bored with it.  Pricey, but definitely worth it!   \n",
      "59641                                                                                                                                                                                                                                                                                                                                                                                                                                                                                                                                                                                                                                                                                                                                    I saw this online and was very impressed with the ingredients so I ordered it but my dogs wont eat it. Even the one who eats everything wont eat it. I was hoping they would love it since it looked very healthy and it's really expensive but it was a big flop!   \n",
      "107192                                                                                                                                                                                                                                                                                                                                                                                                                                                                                                                                                                                                                                                                                                                                           I was really suprised by these. They don't taste exactly like graham crackers, but they're pretty darn good. My mom remarked that she liked them better than regular graham crackers. I would definitely recommend these to someone who can't have gluten!   \n",
      "\n",
      "       VADER_Sentiment TextBlob_Sentiment  \n",
      "322042        Positive           Negative  \n",
      "113502        Positive           Positive  \n",
      "379150        Positive           Negative  \n",
      "59641         Positive           Positive  \n",
      "107192        Positive           Positive  \n"
     ]
    }
   ],
   "source": [
    "# Spot-check several examples\n",
    "pd.set_option('display.max_colwidth', None)\n",
    "spotcheck_sample = random_sample[['Text','VADER_Sentiment', 'TextBlob_Sentiment']].sample(5)\n",
    "print(spotcheck_sample)"
   ]
  },
  {
   "cell_type": "code",
   "execution_count": 27,
   "id": "80ccad71-cc66-44b0-b220-7b5bf5475e66",
   "metadata": {},
   "outputs": [
    {
     "data": {
      "image/png": "[encoded data removed]",
      "text/plain": [
       "<Figure size 1000x600 with 1 Axes>"
      ]
     },
     "metadata": {},
     "output_type": "display_data"
    }
   ],
   "source": [
    "#Draw a histogram that shows the distribution of subjectivity: Count vs. subjectivity\n",
    "num_bins = 50\n",
    "plt.figure(figsize=(10,6))\n",
    "n, bins, patches = plt.hist(random_sample.TextBlob_Subjectivity, num_bins, facecolor='blue', alpha=0.5)\n",
    "plt.xlabel('Subjectivity')\n",
    "plt.ylabel('Count')\n",
    "plt.title('Histogram of Subjectivity')\n",
    "plt.show()"
   ]
  },
  {
   "cell_type": "code",
   "execution_count": 28,
   "id": "a4a63ba5-6c6a-408a-a0b9-b8894c3a79e8",
   "metadata": {},
   "outputs": [
    {
     "data": {
      "image/png": "[encoded data removed]",
      "text/plain": [
       "<Figure size 1000x600 with 1 Axes>"
      ]
     },
     "metadata": {},
     "output_type": "display_data"
    }
   ],
   "source": [
    "#Draw a histogram that shows the distribution of polarity: Count vs. polarity\n",
    "num_bins = 50\n",
    "plt.figure(figsize=(10,6))\n",
    "n, bins, patches = plt.hist(random_sample.TextBlob_Polarity, num_bins, facecolor='blue', alpha=0.5)\n",
    "plt.xlabel('Polarity')\n",
    "plt.ylabel('Count')\n",
    "plt.title('Histogram of Polarity')\n",
    "plt.show()"
   ]
  }
 ],
 "metadata": {
  "kernelspec": {
   "display_name": "Python 3 (ipykernel)",
   "language": "python",
   "name": "python3"
  },
  "language_info": {
   "codemirror_mode": {
    "name": "ipython",
    "version": 3
   },
   "file_extension": ".py",
   "mimetype": "text/x-python",
   "name": "python",
   "nbconvert_exporter": "python",
   "pygments_lexer": "ipython3",
   "version": "3.12.4"
  }
 },
 "nbformat": 4,
 "nbformat_minor": 5
}
