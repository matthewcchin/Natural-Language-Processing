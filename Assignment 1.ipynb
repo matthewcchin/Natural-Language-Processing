{
 "cells": [
  {
   "cell_type": "markdown",
   "id": "3c7dd1c9-17d6-409a-91a9-e2be26f379ac",
   "metadata": {},
   "source": [
    "# Assignment 1"
   ]
  },
  {
   "cell_type": "markdown",
   "id": "b57c648c-d8e5-4ac8-a0b8-be7e4fac798d",
   "metadata": {},
   "source": [
    "Mathia Quimpo, Matthew Chin, Wanqiu Zhang"
   ]
  },
  {
   "attachments": {},
   "cell_type": "markdown",
   "id": "4ec6d23a-c13b-4cf5-85a5-9d127a9bb086",
   "metadata": {},
   "source": [
    "## Exploration and Preprocessing"
   ]
  },
  {
   "cell_type": "code",
   "execution_count": 4,
   "id": "b00fc5b3",
   "metadata": {},
   "outputs": [],
   "source": [
    "import pandas as pd\n",
    "import numpy as np\n",
    "import re\n",
    "import os\n",
    "import string\n",
    "import nltk\n",
    "from bs4 import BeautifulSoup\n",
    "from nltk.corpus import stopwords\n",
    "from nltk.tokenize import word_tokenize\n",
    "from nltk.stem import WordNetLemmatizer\n",
    "from vaderSentiment.vaderSentiment import SentimentIntensityAnalyzer\n",
    "from textblob import TextBlob\n",
    "import matplotlib.pyplot as plt"
   ]
  },
  {
   "cell_type": "code",
   "execution_count": 5,
   "id": "7e96cdc0",
   "metadata": {},
   "outputs": [
    {
     "name": "stderr",
     "output_type": "stream",
     "text": [
      "[nltk_data] Downloading package stopwords to\n",
      "[nltk_data]     C:\\Users\\matth\\AppData\\Roaming\\nltk_data...\n",
      "[nltk_data]   Package stopwords is already up-to-date!\n",
      "[nltk_data] Downloading package punkt to\n",
      "[nltk_data]     C:\\Users\\matth\\AppData\\Roaming\\nltk_data...\n",
      "[nltk_data]   Package punkt is already up-to-date!\n",
      "[nltk_data] Downloading package punkt_tab to\n",
      "[nltk_data]     C:\\Users\\matth\\AppData\\Roaming\\nltk_data...\n",
      "[nltk_data]   Package punkt_tab is already up-to-date!\n",
      "[nltk_data] Downloading package wordnet to\n",
      "[nltk_data]     C:\\Users\\matth\\AppData\\Roaming\\nltk_data...\n",
      "[nltk_data]   Package wordnet is already up-to-date!\n"
     ]
    },
    {
     "data": {
      "text/plain": [
       "True"
      ]
     },
     "execution_count": 5,
     "metadata": {},
     "output_type": "execute_result"
    }
   ],
   "source": [
    "# Download necessary resources\n",
    "nltk.download(\"stopwords\")\n",
    "nltk.download(\"punkt\")\n",
    "nltk.download(\"punkt_tab\")\n",
    "nltk.download(\"wordnet\")"
   ]
  },
  {
   "cell_type": "code",
   "execution_count": 6,
   "id": "0e314200",
   "metadata": {},
   "outputs": [
    {
     "name": "stdout",
     "output_type": "stream",
     "text": [
      "   Id   ProductId          UserId                      ProfileName  \\\n",
      "0   1  B001E4KFG0  A3SGXH7AUHU8GW                       delmartian   \n",
      "1   2  B00813GRG4  A1D87F6ZCVE5NK                           dll pa   \n",
      "2   3  B000LQOCH0   ABXLMWJIXXAIN  Natalia Corres \"Natalia Corres\"   \n",
      "3   4  B000UA0QIQ  A395BORC6FGVXV                             Karl   \n",
      "4   5  B006K2ZZ7K  A1UQRSCLF8GW1T    Michael D. Bigham \"M. Wassir\"   \n",
      "\n",
      "   HelpfulnessNumerator  HelpfulnessDenominator  Score        Time  \\\n",
      "0                     1                       1      5  1303862400   \n",
      "1                     0                       0      1  1346976000   \n",
      "2                     1                       1      4  1219017600   \n",
      "3                     3                       3      2  1307923200   \n",
      "4                     0                       0      5  1350777600   \n",
      "\n",
      "                 Summary                                               Text  \n",
      "0  Good Quality Dog Food  I have bought several of the Vitality canned d...  \n",
      "1      Not as Advertised  Product arrived labeled as Jumbo Salted Peanut...  \n",
      "2  \"Delight\" says it all  This is a confection that has been around a fe...  \n",
      "3         Cough Medicine  If you are looking for the secret ingredient i...  \n",
      "4            Great taffy  Great taffy at a great price.  There was a wid...  \n"
     ]
    }
   ],
   "source": [
    "# Load dataset\n",
    "df = pd.read_csv(r\"C:\\Users\\matth\\Desktop\\MSBA\\BSAN 6200\\Reviews.csv\")\n",
    "\n",
    "print(df.head())"
   ]
  },
  {
   "cell_type": "code",
   "execution_count": 7,
   "id": "07dd9dd4",
   "metadata": {},
   "outputs": [
    {
     "name": "stdout",
     "output_type": "stream",
     "text": [
      "Columns in the dataset:\n",
      " Index(['Id', 'ProductId', 'UserId', 'ProfileName', 'HelpfulnessNumerator',\n",
      "       'HelpfulnessDenominator', 'Score', 'Time', 'Summary', 'Text'],\n",
      "      dtype='object')\n"
     ]
    }
   ],
   "source": [
    "# Display column names\n",
    "print(\"Columns in the dataset:\\n\", df.columns)"
   ]
  },
  {
   "cell_type": "code",
   "execution_count": 8,
   "id": "00480cae",
   "metadata": {
    "scrolled": true
   },
   "outputs": [
    {
     "name": "stdout",
     "output_type": "stream",
     "text": [
      "<class 'pandas.core.frame.DataFrame'>\n",
      "RangeIndex: 568454 entries, 0 to 568453\n",
      "Data columns (total 10 columns):\n",
      " #   Column                  Non-Null Count   Dtype \n",
      "---  ------                  --------------   ----- \n",
      " 0   Id                      568454 non-null  int64 \n",
      " 1   ProductId               568454 non-null  object\n",
      " 2   UserId                  568454 non-null  object\n",
      " 3   ProfileName             568428 non-null  object\n",
      " 4   HelpfulnessNumerator    568454 non-null  int64 \n",
      " 5   HelpfulnessDenominator  568454 non-null  int64 \n",
      " 6   Score                   568454 non-null  int64 \n",
      " 7   Time                    568454 non-null  int64 \n",
      " 8   Summary                 568427 non-null  object\n",
      " 9   Text                    568454 non-null  object\n",
      "dtypes: int64(5), object(5)\n",
      "memory usage: 43.4+ MB\n",
      "None\n",
      "                  Id  HelpfulnessNumerator  HelpfulnessDenominator  \\\n",
      "count  568454.000000         568454.000000            568454.00000   \n",
      "mean   284227.500000              1.743817                 2.22881   \n",
      "std    164098.679298              7.636513                 8.28974   \n",
      "min         1.000000              0.000000                 0.00000   \n",
      "25%    142114.250000              0.000000                 0.00000   \n",
      "50%    284227.500000              0.000000                 1.00000   \n",
      "75%    426340.750000              2.000000                 2.00000   \n",
      "max    568454.000000            866.000000               923.00000   \n",
      "\n",
      "               Score          Time  \n",
      "count  568454.000000  5.684540e+05  \n",
      "mean        4.183199  1.296257e+09  \n",
      "std         1.310436  4.804331e+07  \n",
      "min         1.000000  9.393408e+08  \n",
      "25%         4.000000  1.271290e+09  \n",
      "50%         5.000000  1.311120e+09  \n",
      "75%         5.000000  1.332720e+09  \n",
      "max         5.000000  1.351210e+09  \n",
      "Id                         0\n",
      "ProductId                  0\n",
      "UserId                     0\n",
      "ProfileName               26\n",
      "HelpfulnessNumerator       0\n",
      "HelpfulnessDenominator     0\n",
      "Score                      0\n",
      "Time                       0\n",
      "Summary                   27\n",
      "Text                       0\n",
      "dtype: int64\n"
     ]
    }
   ],
   "source": [
    "# Get general info\n",
    "print(df.info())\n",
    "\n",
    "# Descriptive statistics\n",
    "print(df.describe())\n",
    "\n",
    "# Check for missing values\n",
    "print(df.isnull().sum())"
   ]
  },
  {
   "cell_type": "code",
   "execution_count": 9,
   "id": "6ad5af05",
   "metadata": {
    "scrolled": true
   },
   "outputs": [
    {
     "name": "stdout",
     "output_type": "stream",
     "text": [
      "count    568454.000000\n",
      "mean        436.222083\n",
      "std         445.339741\n",
      "min          12.000000\n",
      "25%         179.000000\n",
      "50%         302.000000\n",
      "75%         527.000000\n",
      "max       21409.000000\n",
      "Name: Text_Length, dtype: float64\n"
     ]
    }
   ],
   "source": [
    "# Add a new column for text length\n",
    "df[\"Text_Length\"] = df[\"Text\"].astype(str).apply(len)\n",
    "\n",
    "# Display descriptive statistics for text length\n",
    "print(df[\"Text_Length\"].describe())"
   ]
  },
  {
   "cell_type": "code",
   "execution_count": 10,
   "id": "244d7ad1",
   "metadata": {
    "scrolled": true
   },
   "outputs": [
    {
     "name": "stdout",
     "output_type": "stream",
     "text": [
      "300665    I have used this product before and found it t...\n",
      "167485    The product arrived a bit later than expected ...\n",
      "313460    I never eat this stuff, usually but Walmart ha...\n",
      "7589      It's all natural, no artificial color, no weir...\n",
      "48968     I've not actually used any other filter paper ...\n",
      "146982    I ordered pack of 4. I've been expected good c...\n",
      "538997    I try to avoid artificial sweeteners, but I lo...\n",
      "296558    Timothy's World is your \"average, but nothing ...\n",
      "81877     Imagine doggie treat flavored underarm deodora...\n",
      "413831    For WW, this is great. Don't get me wrong, I s...\n",
      "Name: Text, dtype: object\n"
     ]
    }
   ],
   "source": [
    "# Read a few random review samples\n",
    "print(df[\"Text\"].sample(10, random_state=45))"
   ]
  },
  {
   "cell_type": "code",
   "execution_count": 11,
   "id": "de6b5f1a",
   "metadata": {},
   "outputs": [],
   "source": [
    "# Initialize lemmatizer\n",
    "lemmatizer = WordNetLemmatizer()\n",
    "stop_words = set(stopwords.words(\"english\"))"
   ]
  },
  {
   "cell_type": "code",
   "execution_count": 12,
   "id": "a83a62dd",
   "metadata": {},
   "outputs": [],
   "source": [
    "# Text cleaning function\n",
    "def clean_text(text):\n",
    "    if not isinstance(text, str):\n",
    "        return \"\"  # Handle missing values\n",
    "    \n",
    "    # 1. Remove HTML tags using a regex pattern\n",
    "    text = re.sub(r\"<.*?>\", \"\", text)  # Remove HTML tags\n",
    "\n",
    "    # 2. Replace URLs with a placeholder \"URL\"\n",
    "    text = re.sub(r'http[s]?://\\S+', 'URL', text)\n",
    "\n",
    "    # 3. Convert to lowercase\n",
    "    text = text.lower()\n",
    "\n",
    "    # 4. Remove special characters, numbers, and punctuation\n",
    "    text = re.sub(r\"[^a-z\\s]\", \"\", text)\n",
    "\n",
    "    # 5. Tokenize the text into words\n",
    "    words = word_tokenize(text)\n",
    "\n",
    "    # 6. Remove stopwords and lemmatize\n",
    "    cleaned_text = [lemmatizer.lemmatize(word) for word in words if word not in stop_words]\n",
    "\n",
    "    # 7. Replace multiple spaces with a single space\n",
    "    cleaned_text = \" \".join(cleaned_text)\n",
    "    cleaned_text = re.sub(r'\\s+', ' ', cleaned_text).strip()\n",
    "\n",
    "    return cleaned_text"
   ]
  },
  {
   "cell_type": "code",
   "execution_count": 13,
   "id": "33dba9d0-56cd-4dde-b74b-4646814cc44a",
   "metadata": {},
   "outputs": [],
   "source": [
    "# Select 100 random rows\n",
    "random_sample = df.sample(100)"
   ]
  },
  {
   "cell_type": "code",
   "execution_count": 14,
   "id": "67025b8f",
   "metadata": {
    "scrolled": true
   },
   "outputs": [],
   "source": [
    "# Apply the updated cleaning function to the Text column\n",
    "random_sample[\"Cleaned_Text\"] = random_sample[\"Text\"].apply(clean_text)"
   ]
  },
  {
   "cell_type": "code",
   "execution_count": 15,
   "id": "dd87b560",
   "metadata": {
    "scrolled": true
   },
   "outputs": [
    {
     "name": "stdout",
     "output_type": "stream",
     "text": [
      "                                                     Text  \\\n",
      "377624  This is my least favorite of the varieties - s...   \n",
      "384167  Let's face it, most GF bread is disgusting!  W...   \n",
      "494985  So glad I read the reviews and ordered this ma...   \n",
      "201632  The storage drawer is a great idea and  would ...   \n",
      "1141    One of my kitties is a complete snob when it c...   \n",
      "\n",
      "                                             Cleaned_Text  \n",
      "377624  least favorite variety seems aftertaste yet te...  \n",
      "384167  let face gf bread disgusting want eat somethin...  \n",
      "494985  glad read review ordered maple syrup good pric...  \n",
      "201632  storage drawer great idea would useful except ...  \n",
      "1141    one kitty complete snob come food love great p...  \n"
     ]
    }
   ],
   "source": [
    "# Spot-checking\n",
    "spotcheck_sample = random_sample[[\"Text\", \"Cleaned_Text\"]].sample(5, random_state=45)\n",
    "print(spotcheck_sample)"
   ]
  },
  {
   "cell_type": "markdown",
   "id": "7fb14eb0-b67c-4a46-a83f-c567d7f50a7a",
   "metadata": {},
   "source": [
    "## VADER"
   ]
  },
  {
   "cell_type": "code",
   "execution_count": 17,
   "id": "35cc4ff2",
   "metadata": {},
   "outputs": [],
   "source": [
    "# Initialize VADER Sentiment Analyzer\n",
    "analyzer = SentimentIntensityAnalyzer()"
   ]
  },
  {
   "cell_type": "code",
   "execution_count": 18,
   "id": "dff934f6-2ab3-49b6-9f69-15b8ba2e190a",
   "metadata": {},
   "outputs": [],
   "source": [
    "# Tokenize the Cleaned_Text once and store it in a new column 'Tokens'\n",
    "random_sample['Tokens'] = random_sample['Cleaned_Text'].apply(word_tokenize)"
   ]
  },
  {
   "cell_type": "code",
   "execution_count": 19,
   "id": "4afabd5e",
   "metadata": {},
   "outputs": [
    {
     "name": "stdout",
     "output_type": "stream",
     "text": [
      "                                                     Text  \\\n",
      "377624  This is my least favorite of the varieties - s...   \n",
      "384167  Let's face it, most GF bread is disgusting!  W...   \n",
      "178792  The family which received this gift basket fro...   \n",
      "90952   Great Coffee! Item was shipped quickly and as ...   \n",
      "149660  I love this! I used to take creamer in my iced...   \n",
      "\n",
      "                                             Cleaned_Text  \\\n",
      "377624  least favorite variety seems aftertaste yet te...   \n",
      "384167  let face gf bread disgusting want eat somethin...   \n",
      "178792  family received gift basket told many great it...   \n",
      "90952   great coffee item shipped quickly presented de...   \n",
      "149660  love used take creamer iced coffee beginning y...   \n",
      "\n",
      "                                                   Tokens  Word_Count  \\\n",
      "377624  [least, favorite, variety, seems, aftertaste, ...        15.0   \n",
      "384167  [let, face, gf, bread, disgusting, want, eat, ...        32.0   \n",
      "178792  [family, received, gift, basket, told, many, g...        44.0   \n",
      "90952   [great, coffee, item, shipped, quickly, presen...        21.0   \n",
      "149660  [love, used, take, creamer, iced, coffee, begi...        30.0   \n",
      "\n",
      "        Unique_Word_Count  Avg_Word_Length  Sentiment_Score  \n",
      "377624               15.0         5.333333          -0.7167  \n",
      "384167               26.0         5.031250          -0.6486  \n",
      "178792               35.0         5.590909           0.9882  \n",
      "90952                20.0         6.095238           0.7845  \n",
      "149660               24.0         5.133333           0.9552  \n"
     ]
    }
   ],
   "source": [
    "# Apply Feature Engineering on the pre-tokenized text\n",
    "def extract_features_from_tokens(tokens):\n",
    "    word_count = len(tokens)\n",
    "    unique_word_count = len(set(tokens))\n",
    "    avg_word_length = sum(len(word) for word in tokens) / word_count if word_count else 0\n",
    "\n",
    "    # Sentiment analysis with VADER\n",
    "    sentiment = analyzer.polarity_scores(\" \".join(tokens))  # VADER expects a string, not tokens\n",
    "\n",
    "    return [word_count, unique_word_count, avg_word_length, sentiment['compound']]\n",
    "\n",
    "# Now apply the feature extraction on the 'Tokens' column (pre-tokenized)\n",
    "random_sample[['Word_Count', 'Unique_Word_Count', 'Avg_Word_Length', 'Sentiment_Score']] = random_sample['Tokens'].apply(\n",
    "    lambda x: pd.Series(extract_features_from_tokens(x)))\n",
    "\n",
    "# Spot-check the results\n",
    "print(random_sample[['Text', 'Cleaned_Text', 'Tokens', 'Word_Count', 'Unique_Word_Count', 'Avg_Word_Length', 'Sentiment_Score']].head())\n"
   ]
  },
  {
   "cell_type": "code",
   "execution_count": 20,
   "id": "afb58b37",
   "metadata": {
    "scrolled": true
   },
   "outputs": [
    {
     "name": "stdout",
     "output_type": "stream",
     "text": [
      "                                             Cleaned_Text  Sentiment_Score  \\\n",
      "377624  least favorite variety seems aftertaste yet te...          -0.7167   \n",
      "384167  let face gf bread disgusting want eat somethin...          -0.6486   \n",
      "178792  family received gift basket told many great it...           0.9882   \n",
      "90952   great coffee item shipped quickly presented de...           0.7845   \n",
      "149660  love used take creamer iced coffee beginning y...           0.9552   \n",
      "\n",
      "       Sentiment_Label  \n",
      "377624        Negative  \n",
      "384167        Negative  \n",
      "178792        Positive  \n",
      "90952         Positive  \n",
      "149660        Positive  \n"
     ]
    }
   ],
   "source": [
    "def classify_sentiment(sentiment_score):\n",
    "    if sentiment_score > 0.1:\n",
    "        return \"Positive\"\n",
    "    elif sentiment_score < -0.1:\n",
    "        return \"Negative\"\n",
    "    else:\n",
    "        return \"Neutral\"\n",
    "\n",
    "# Apply sentiment classification based on VADER sentiment score\n",
    "random_sample['Sentiment_Label'] = random_sample['Sentiment_Score'].apply(classify_sentiment)\n",
    "\n",
    "# Show some of the classified sentiments\n",
    "print(random_sample[['Cleaned_Text', 'Sentiment_Score', 'Sentiment_Label']].head())"
   ]
  },
  {
   "cell_type": "code",
   "execution_count": 21,
   "id": "71ca08b8",
   "metadata": {},
   "outputs": [],
   "source": [
    "# Extract sentiment predictions from VADER\n",
    "random_sample['VADER_Sentiment'] = random_sample['Sentiment_Score'].apply(\n",
    "    lambda score: 'Positive' if score > 0 else 'Negative' if score < 0 else 'Neutral'\n",
    ")"
   ]
  },
  {
   "cell_type": "code",
   "execution_count": 22,
   "id": "d0613884",
   "metadata": {},
   "outputs": [
    {
     "name": "stdout",
     "output_type": "stream",
     "text": [
      "                                                     Text VADER_Sentiment\n",
      "377624  This is my least favorite of the varieties - s...        Negative\n",
      "384167  Let's face it, most GF bread is disgusting!  W...        Negative\n",
      "494985  So glad I read the reviews and ordered this ma...        Positive\n",
      "201632  The storage drawer is a great idea and  would ...        Positive\n",
      "1141    One of my kitties is a complete snob when it c...        Positive\n"
     ]
    }
   ],
   "source": [
    "# Spot-check several examples\n",
    "spotcheck_sample = random_sample[['Text', 'VADER_Sentiment']].sample(5, random_state=45)\n",
    "\n",
    "print(spotcheck_sample)"
   ]
  },
  {
   "cell_type": "code",
   "execution_count": 23,
   "id": "1762082e",
   "metadata": {
    "scrolled": true
   },
   "outputs": [
    {
     "name": "stdout",
     "output_type": "stream",
     "text": [
      "Review Text: This is my least favorite of the varieties - seems to have an aftertaste yet is only tea. All in all not bad - I would order again - when the price goes back to a more reasonable level!\n",
      "VADER Sentiment: Negative\n",
      "--------------------------------------------------\n",
      "Review Text: Let's face it, most GF bread is disgusting!  Who wants to eat something you have to nuke or toast to eat it and it still is awful?  Not this bread.  Very easy to make (although my rising time is a lot longer than 40 minutes).  I cut the bread thin to make sandwiches.  The only drawback is the bread is crumbly.  The taste more than makes up for this.\n",
      "VADER Sentiment: Negative\n",
      "--------------------------------------------------\n",
      "Review Text: So glad I read the reviews and ordered this maple syrup.  It is very good and the price is right too!  A winner you should take a chance on.\n",
      "VADER Sentiment: Positive\n",
      "--------------------------------------------------\n",
      "Review Text: The storage drawer is a great idea and  would be very useful except for the fact it raises the coffee maker too close to the underside of the cabinets. You can't lift the arm to insert a k-cup you must slide the whole thing out from under the cabinets. Otherwise a great idea.\n",
      "VADER Sentiment: Positive\n",
      "--------------------------------------------------\n",
      "Review Text: One of my kitties is a complete snob when it comes to food and she loves this. Great product to buy.\n",
      "VADER Sentiment: Positive\n",
      "--------------------------------------------------\n"
     ]
    }
   ],
   "source": [
    "# To manually review the sentiment, you can check the first few examples\n",
    "for idx, row in spotcheck_sample.iterrows():\n",
    "    print(f\"Review Text: {row['Text']}\")\n",
    "    print(f\"VADER Sentiment: {row['VADER_Sentiment']}\")\n",
    "    print(\"-\" * 50)"
   ]
  },
  {
   "cell_type": "markdown",
   "id": "8fe8007e-80ac-48dc-8c6d-a2a753d144d7",
   "metadata": {},
   "source": [
    "## TextBlob"
   ]
  },
  {
   "cell_type": "code",
   "execution_count": 25,
   "id": "14af215f-1f19-46da-99ab-6b66c6b9a481",
   "metadata": {},
   "outputs": [
    {
     "data": {
      "text/html": [
       "<div>\n",
       "<style scoped>\n",
       "    .dataframe tbody tr th:only-of-type {\n",
       "        vertical-align: middle;\n",
       "    }\n",
       "\n",
       "    .dataframe tbody tr th {\n",
       "        vertical-align: top;\n",
       "    }\n",
       "\n",
       "    .dataframe thead th {\n",
       "        text-align: right;\n",
       "    }\n",
       "</style>\n",
       "<table border=\"1\" class=\"dataframe\">\n",
       "  <thead>\n",
       "    <tr style=\"text-align: right;\">\n",
       "      <th></th>\n",
       "      <th>Id</th>\n",
       "      <th>ProductId</th>\n",
       "      <th>UserId</th>\n",
       "      <th>ProfileName</th>\n",
       "      <th>HelpfulnessNumerator</th>\n",
       "      <th>HelpfulnessDenominator</th>\n",
       "      <th>Score</th>\n",
       "      <th>Time</th>\n",
       "      <th>Summary</th>\n",
       "      <th>Text</th>\n",
       "      <th>...</th>\n",
       "      <th>Tokens</th>\n",
       "      <th>Word_Count</th>\n",
       "      <th>Unique_Word_Count</th>\n",
       "      <th>Avg_Word_Length</th>\n",
       "      <th>Sentiment_Score</th>\n",
       "      <th>Sentiment_Label</th>\n",
       "      <th>VADER_Sentiment</th>\n",
       "      <th>TextBlob_Polarity</th>\n",
       "      <th>TextBlob_Subjectivity</th>\n",
       "      <th>TextBlob_Sentiment</th>\n",
       "    </tr>\n",
       "  </thead>\n",
       "  <tbody>\n",
       "    <tr>\n",
       "      <th>377624</th>\n",
       "      <td>377625</td>\n",
       "      <td>B001KWZKO8</td>\n",
       "      <td>A2K6Q5PV6G70A0</td>\n",
       "      <td>saddleseat</td>\n",
       "      <td>1</td>\n",
       "      <td>1</td>\n",
       "      <td>3</td>\n",
       "      <td>1257033600</td>\n",
       "      <td>Green tea -!!</td>\n",
       "      <td>This is my least favorite of the varieties - s...</td>\n",
       "      <td>...</td>\n",
       "      <td>[least, favorite, variety, seems, aftertaste, ...</td>\n",
       "      <td>15.0</td>\n",
       "      <td>15.0</td>\n",
       "      <td>5.333333</td>\n",
       "      <td>-0.7167</td>\n",
       "      <td>Negative</td>\n",
       "      <td>Negative</td>\n",
       "      <td>-0.060000</td>\n",
       "      <td>0.533333</td>\n",
       "      <td>Negative</td>\n",
       "    </tr>\n",
       "    <tr>\n",
       "      <th>384167</th>\n",
       "      <td>384168</td>\n",
       "      <td>B000EVWQZW</td>\n",
       "      <td>A3IO0SBXXJIWG9</td>\n",
       "      <td>Dharma</td>\n",
       "      <td>0</td>\n",
       "      <td>0</td>\n",
       "      <td>5</td>\n",
       "      <td>1323216000</td>\n",
       "      <td>The best GF bread I have had yet!</td>\n",
       "      <td>Let's face it, most GF bread is disgusting!  W...</td>\n",
       "      <td>...</td>\n",
       "      <td>[let, face, gf, bread, disgusting, want, eat, ...</td>\n",
       "      <td>32.0</td>\n",
       "      <td>26.0</td>\n",
       "      <td>5.031250</td>\n",
       "      <td>-0.6486</td>\n",
       "      <td>Negative</td>\n",
       "      <td>Negative</td>\n",
       "      <td>-0.491667</td>\n",
       "      <td>0.920833</td>\n",
       "      <td>Negative</td>\n",
       "    </tr>\n",
       "    <tr>\n",
       "      <th>178792</th>\n",
       "      <td>178793</td>\n",
       "      <td>B0001WAMA0</td>\n",
       "      <td>A34ANNWI196H4L</td>\n",
       "      <td>Krista A. S.  -  Arizona</td>\n",
       "      <td>0</td>\n",
       "      <td>0</td>\n",
       "      <td>5</td>\n",
       "      <td>1347148800</td>\n",
       "      <td>Probably Will Be Enjoyed by the Family Who Rec...</td>\n",
       "      <td>The family which received this gift basket fro...</td>\n",
       "      <td>...</td>\n",
       "      <td>[family, received, gift, basket, told, many, g...</td>\n",
       "      <td>44.0</td>\n",
       "      <td>35.0</td>\n",
       "      <td>5.590909</td>\n",
       "      <td>0.9882</td>\n",
       "      <td>Positive</td>\n",
       "      <td>Positive</td>\n",
       "      <td>0.514286</td>\n",
       "      <td>0.689286</td>\n",
       "      <td>Positive</td>\n",
       "    </tr>\n",
       "    <tr>\n",
       "      <th>90952</th>\n",
       "      <td>90953</td>\n",
       "      <td>B0079Y8KUC</td>\n",
       "      <td>A10JDFMH3PQ28U</td>\n",
       "      <td>Shopper Girl</td>\n",
       "      <td>0</td>\n",
       "      <td>2</td>\n",
       "      <td>5</td>\n",
       "      <td>1337731200</td>\n",
       "      <td>Gevalia Great Coffee</td>\n",
       "      <td>Great Coffee! Item was shipped quickly and as ...</td>\n",
       "      <td>...</td>\n",
       "      <td>[great, coffee, item, shipped, quickly, presen...</td>\n",
       "      <td>21.0</td>\n",
       "      <td>20.0</td>\n",
       "      <td>6.095238</td>\n",
       "      <td>0.7845</td>\n",
       "      <td>Positive</td>\n",
       "      <td>Positive</td>\n",
       "      <td>0.461111</td>\n",
       "      <td>0.583333</td>\n",
       "      <td>Positive</td>\n",
       "    </tr>\n",
       "    <tr>\n",
       "      <th>149660</th>\n",
       "      <td>149661</td>\n",
       "      <td>B000E8WIAS</td>\n",
       "      <td>A1IK2DP6SH9QPD</td>\n",
       "      <td>Mommy of 2</td>\n",
       "      <td>0</td>\n",
       "      <td>0</td>\n",
       "      <td>5</td>\n",
       "      <td>1337212800</td>\n",
       "      <td>Yummy</td>\n",
       "      <td>I love this! I used to take creamer in my iced...</td>\n",
       "      <td>...</td>\n",
       "      <td>[love, used, take, creamer, iced, coffee, begi...</td>\n",
       "      <td>30.0</td>\n",
       "      <td>24.0</td>\n",
       "      <td>5.133333</td>\n",
       "      <td>0.9552</td>\n",
       "      <td>Positive</td>\n",
       "      <td>Positive</td>\n",
       "      <td>0.225000</td>\n",
       "      <td>0.554167</td>\n",
       "      <td>Positive</td>\n",
       "    </tr>\n",
       "    <tr>\n",
       "      <th>...</th>\n",
       "      <td>...</td>\n",
       "      <td>...</td>\n",
       "      <td>...</td>\n",
       "      <td>...</td>\n",
       "      <td>...</td>\n",
       "      <td>...</td>\n",
       "      <td>...</td>\n",
       "      <td>...</td>\n",
       "      <td>...</td>\n",
       "      <td>...</td>\n",
       "      <td>...</td>\n",
       "      <td>...</td>\n",
       "      <td>...</td>\n",
       "      <td>...</td>\n",
       "      <td>...</td>\n",
       "      <td>...</td>\n",
       "      <td>...</td>\n",
       "      <td>...</td>\n",
       "      <td>...</td>\n",
       "      <td>...</td>\n",
       "      <td>...</td>\n",
       "    </tr>\n",
       "    <tr>\n",
       "      <th>499616</th>\n",
       "      <td>499617</td>\n",
       "      <td>B000CQID6U</td>\n",
       "      <td>A1TJXXU8HQ3YU4</td>\n",
       "      <td>GreatGrandmemas</td>\n",
       "      <td>1</td>\n",
       "      <td>1</td>\n",
       "      <td>5</td>\n",
       "      <td>1344643200</td>\n",
       "      <td>As good as Bentley's, MUCH cheaper at Amazon.com.</td>\n",
       "      <td>I never liked Earl Grey til I had Bentley's.  ...</td>\n",
       "      <td>...</td>\n",
       "      <td>[never, liked, earl, grey, til, bentleys, gift...</td>\n",
       "      <td>44.0</td>\n",
       "      <td>41.0</td>\n",
       "      <td>5.659091</td>\n",
       "      <td>0.7202</td>\n",
       "      <td>Positive</td>\n",
       "      <td>Positive</td>\n",
       "      <td>-0.034249</td>\n",
       "      <td>0.487179</td>\n",
       "      <td>Negative</td>\n",
       "    </tr>\n",
       "    <tr>\n",
       "      <th>319658</th>\n",
       "      <td>319659</td>\n",
       "      <td>B000FNEX8C</td>\n",
       "      <td>AC4A11M7LCYZD</td>\n",
       "      <td>Tierra</td>\n",
       "      <td>3</td>\n",
       "      <td>3</td>\n",
       "      <td>5</td>\n",
       "      <td>1169251200</td>\n",
       "      <td>Yummy and healthy!</td>\n",
       "      <td>These are the only cookies I have found that I...</td>\n",
       "      <td>...</td>\n",
       "      <td>[cooky, found, safely, eat, without, feeling, ...</td>\n",
       "      <td>58.0</td>\n",
       "      <td>49.0</td>\n",
       "      <td>5.068966</td>\n",
       "      <td>0.7490</td>\n",
       "      <td>Positive</td>\n",
       "      <td>Positive</td>\n",
       "      <td>0.300000</td>\n",
       "      <td>0.507143</td>\n",
       "      <td>Positive</td>\n",
       "    </tr>\n",
       "    <tr>\n",
       "      <th>272388</th>\n",
       "      <td>272389</td>\n",
       "      <td>B000JWCA02</td>\n",
       "      <td>A31J176KH7ZZEY</td>\n",
       "      <td>Lalita Tawjareon</td>\n",
       "      <td>0</td>\n",
       "      <td>2</td>\n",
       "      <td>5</td>\n",
       "      <td>1301011200</td>\n",
       "      <td>Nice Caramels</td>\n",
       "      <td>I ordered these triple treat caramels as part ...</td>\n",
       "      <td>...</td>\n",
       "      <td>[ordered, triple, treat, caramel, part, upcomi...</td>\n",
       "      <td>274.0</td>\n",
       "      <td>157.0</td>\n",
       "      <td>5.839416</td>\n",
       "      <td>0.9992</td>\n",
       "      <td>Positive</td>\n",
       "      <td>Positive</td>\n",
       "      <td>0.370675</td>\n",
       "      <td>0.540163</td>\n",
       "      <td>Positive</td>\n",
       "    </tr>\n",
       "    <tr>\n",
       "      <th>266392</th>\n",
       "      <td>266393</td>\n",
       "      <td>B003QKBDX4</td>\n",
       "      <td>A3VJRET2XN8IRF</td>\n",
       "      <td>Susan D. Rosko \"mrs. spunkmeister\"</td>\n",
       "      <td>1</td>\n",
       "      <td>2</td>\n",
       "      <td>4</td>\n",
       "      <td>1287187200</td>\n",
       "      <td>Via instant coffee</td>\n",
       "      <td>As a convenience, this is great coffee.  I do ...</td>\n",
       "      <td>...</td>\n",
       "      <td>[convenience, great, coffee, find, however, hi...</td>\n",
       "      <td>28.0</td>\n",
       "      <td>27.0</td>\n",
       "      <td>6.750000</td>\n",
       "      <td>0.9284</td>\n",
       "      <td>Positive</td>\n",
       "      <td>Positive</td>\n",
       "      <td>0.553333</td>\n",
       "      <td>0.630000</td>\n",
       "      <td>Positive</td>\n",
       "    </tr>\n",
       "    <tr>\n",
       "      <th>102144</th>\n",
       "      <td>102145</td>\n",
       "      <td>B001ELLB16</td>\n",
       "      <td>A1G9HOMZ2LKDVO</td>\n",
       "      <td>Beautiful Dreamer</td>\n",
       "      <td>3</td>\n",
       "      <td>3</td>\n",
       "      <td>5</td>\n",
       "      <td>1305849600</td>\n",
       "      <td>excellent oil</td>\n",
       "      <td>In our home, we only use extra virgin olive oi...</td>\n",
       "      <td>...</td>\n",
       "      <td>[home, use, extra, virgin, olive, oil, evoo, l...</td>\n",
       "      <td>87.0</td>\n",
       "      <td>68.0</td>\n",
       "      <td>5.540230</td>\n",
       "      <td>0.9851</td>\n",
       "      <td>Positive</td>\n",
       "      <td>Positive</td>\n",
       "      <td>0.338032</td>\n",
       "      <td>0.424382</td>\n",
       "      <td>Positive</td>\n",
       "    </tr>\n",
       "  </tbody>\n",
       "</table>\n",
       "<p>100 rows × 22 columns</p>\n",
       "</div>"
      ],
      "text/plain": [
       "            Id   ProductId          UserId  \\\n",
       "377624  377625  B001KWZKO8  A2K6Q5PV6G70A0   \n",
       "384167  384168  B000EVWQZW  A3IO0SBXXJIWG9   \n",
       "178792  178793  B0001WAMA0  A34ANNWI196H4L   \n",
       "90952    90953  B0079Y8KUC  A10JDFMH3PQ28U   \n",
       "149660  149661  B000E8WIAS  A1IK2DP6SH9QPD   \n",
       "...        ...         ...             ...   \n",
       "499616  499617  B000CQID6U  A1TJXXU8HQ3YU4   \n",
       "319658  319659  B000FNEX8C   AC4A11M7LCYZD   \n",
       "272388  272389  B000JWCA02  A31J176KH7ZZEY   \n",
       "266392  266393  B003QKBDX4  A3VJRET2XN8IRF   \n",
       "102144  102145  B001ELLB16  A1G9HOMZ2LKDVO   \n",
       "\n",
       "                               ProfileName  HelpfulnessNumerator  \\\n",
       "377624                          saddleseat                     1   \n",
       "384167                              Dharma                     0   \n",
       "178792            Krista A. S.  -  Arizona                     0   \n",
       "90952                         Shopper Girl                     0   \n",
       "149660                          Mommy of 2                     0   \n",
       "...                                    ...                   ...   \n",
       "499616                     GreatGrandmemas                     1   \n",
       "319658                              Tierra                     3   \n",
       "272388                    Lalita Tawjareon                     0   \n",
       "266392  Susan D. Rosko \"mrs. spunkmeister\"                     1   \n",
       "102144                   Beautiful Dreamer                     3   \n",
       "\n",
       "        HelpfulnessDenominator  Score        Time  \\\n",
       "377624                       1      3  1257033600   \n",
       "384167                       0      5  1323216000   \n",
       "178792                       0      5  1347148800   \n",
       "90952                        2      5  1337731200   \n",
       "149660                       0      5  1337212800   \n",
       "...                        ...    ...         ...   \n",
       "499616                       1      5  1344643200   \n",
       "319658                       3      5  1169251200   \n",
       "272388                       2      5  1301011200   \n",
       "266392                       2      4  1287187200   \n",
       "102144                       3      5  1305849600   \n",
       "\n",
       "                                                  Summary  \\\n",
       "377624                                      Green tea -!!   \n",
       "384167                  The best GF bread I have had yet!   \n",
       "178792  Probably Will Be Enjoyed by the Family Who Rec...   \n",
       "90952                                Gevalia Great Coffee   \n",
       "149660                                              Yummy   \n",
       "...                                                   ...   \n",
       "499616  As good as Bentley's, MUCH cheaper at Amazon.com.   \n",
       "319658                                 Yummy and healthy!   \n",
       "272388                                      Nice Caramels   \n",
       "266392                                 Via instant coffee   \n",
       "102144                                      excellent oil   \n",
       "\n",
       "                                                     Text  ...  \\\n",
       "377624  This is my least favorite of the varieties - s...  ...   \n",
       "384167  Let's face it, most GF bread is disgusting!  W...  ...   \n",
       "178792  The family which received this gift basket fro...  ...   \n",
       "90952   Great Coffee! Item was shipped quickly and as ...  ...   \n",
       "149660  I love this! I used to take creamer in my iced...  ...   \n",
       "...                                                   ...  ...   \n",
       "499616  I never liked Earl Grey til I had Bentley's.  ...  ...   \n",
       "319658  These are the only cookies I have found that I...  ...   \n",
       "272388  I ordered these triple treat caramels as part ...  ...   \n",
       "266392  As a convenience, this is great coffee.  I do ...  ...   \n",
       "102144  In our home, we only use extra virgin olive oi...  ...   \n",
       "\n",
       "                                                   Tokens Word_Count  \\\n",
       "377624  [least, favorite, variety, seems, aftertaste, ...       15.0   \n",
       "384167  [let, face, gf, bread, disgusting, want, eat, ...       32.0   \n",
       "178792  [family, received, gift, basket, told, many, g...       44.0   \n",
       "90952   [great, coffee, item, shipped, quickly, presen...       21.0   \n",
       "149660  [love, used, take, creamer, iced, coffee, begi...       30.0   \n",
       "...                                                   ...        ...   \n",
       "499616  [never, liked, earl, grey, til, bentleys, gift...       44.0   \n",
       "319658  [cooky, found, safely, eat, without, feeling, ...       58.0   \n",
       "272388  [ordered, triple, treat, caramel, part, upcomi...      274.0   \n",
       "266392  [convenience, great, coffee, find, however, hi...       28.0   \n",
       "102144  [home, use, extra, virgin, olive, oil, evoo, l...       87.0   \n",
       "\n",
       "       Unique_Word_Count  Avg_Word_Length  Sentiment_Score  Sentiment_Label  \\\n",
       "377624              15.0         5.333333          -0.7167         Negative   \n",
       "384167              26.0         5.031250          -0.6486         Negative   \n",
       "178792              35.0         5.590909           0.9882         Positive   \n",
       "90952               20.0         6.095238           0.7845         Positive   \n",
       "149660              24.0         5.133333           0.9552         Positive   \n",
       "...                  ...              ...              ...              ...   \n",
       "499616              41.0         5.659091           0.7202         Positive   \n",
       "319658              49.0         5.068966           0.7490         Positive   \n",
       "272388             157.0         5.839416           0.9992         Positive   \n",
       "266392              27.0         6.750000           0.9284         Positive   \n",
       "102144              68.0         5.540230           0.9851         Positive   \n",
       "\n",
       "        VADER_Sentiment TextBlob_Polarity TextBlob_Subjectivity  \\\n",
       "377624         Negative         -0.060000              0.533333   \n",
       "384167         Negative         -0.491667              0.920833   \n",
       "178792         Positive          0.514286              0.689286   \n",
       "90952          Positive          0.461111              0.583333   \n",
       "149660         Positive          0.225000              0.554167   \n",
       "...                 ...               ...                   ...   \n",
       "499616         Positive         -0.034249              0.487179   \n",
       "319658         Positive          0.300000              0.507143   \n",
       "272388         Positive          0.370675              0.540163   \n",
       "266392         Positive          0.553333              0.630000   \n",
       "102144         Positive          0.338032              0.424382   \n",
       "\n",
       "        TextBlob_Sentiment  \n",
       "377624            Negative  \n",
       "384167            Negative  \n",
       "178792            Positive  \n",
       "90952             Positive  \n",
       "149660            Positive  \n",
       "...                    ...  \n",
       "499616            Negative  \n",
       "319658            Positive  \n",
       "272388            Positive  \n",
       "266392            Positive  \n",
       "102144            Positive  \n",
       "\n",
       "[100 rows x 22 columns]"
      ]
     },
     "execution_count": 25,
     "metadata": {},
     "output_type": "execute_result"
    }
   ],
   "source": [
    "def analyze_sentiment(text):\n",
    "    blob = TextBlob(text)\n",
    "    return blob.sentiment.polarity, blob.sentiment.subjectivity, 'Positive' if blob.sentiment.polarity > 0 else ('Negative' if blob.sentiment.polarity < 0 else 'Neutral')\n",
    "\n",
    "# Apply the function and append new columns\n",
    "random_sample[['TextBlob_Polarity', 'TextBlob_Subjectivity', 'TextBlob_Sentiment']] = random_sample['Cleaned_Text'].apply(lambda x: pd.Series(analyze_sentiment(x)))\n",
    "\n",
    "# Display the updated DataFrame\n",
    "random_sample"
   ]
  },
  {
   "cell_type": "code",
   "execution_count": 26,
   "id": "80ccad71-cc66-44b0-b220-7b5bf5475e66",
   "metadata": {},
   "outputs": [
    {
     "data": {
      "image/png": "[encoded data removed]",
      "text/plain": [
       "<Figure size 1000x600 with 1 Axes>"
      ]
     },
     "metadata": {},
     "output_type": "display_data"
    }
   ],
   "source": [
    "#Draw a histogram that shows the distribution of subjectivity: Count vs. subjectivity\n",
    "num_bins = 50\n",
    "plt.figure(figsize=(10,6))\n",
    "n, bins, patches = plt.hist(random_sample.TextBlob_Subjectivity, num_bins, facecolor='blue', alpha=0.5)\n",
    "plt.xlabel('Subjectivity')\n",
    "plt.ylabel('Count')\n",
    "plt.title('Histogram of Subjectivity')\n",
    "plt.show()"
   ]
  },
  {
   "cell_type": "code",
   "execution_count": 27,
   "id": "a4a63ba5-6c6a-408a-a0b9-b8894c3a79e8",
   "metadata": {},
   "outputs": [
    {
     "data": {
      "image/png": "[encoded data removed]",
      "text/plain": [
       "<Figure size 1000x600 with 1 Axes>"
      ]
     },
     "metadata": {},
     "output_type": "display_data"
    }
   ],
   "source": [
    "#Draw a histogram that shows the distribution of polarity: Count vs. polarity\n",
    "num_bins = 50\n",
    "plt.figure(figsize=(10,6))\n",
    "n, bins, patches = plt.hist(random_sample.TextBlob_Polarity, num_bins, facecolor='blue', alpha=0.5)\n",
    "plt.xlabel('Polarity')\n",
    "plt.ylabel('Count')\n",
    "plt.title('Histogram of Polarity')\n",
    "plt.show()"
   ]
  }
 ],
 "metadata": {
  "kernelspec": {
   "display_name": "Python 3 (ipykernel)",
   "language": "python",
   "name": "python3"
  },
  "language_info": {
   "codemirror_mode": {
    "name": "ipython",
    "version": 3
   },
   "file_extension": ".py",
   "mimetype": "text/x-python",
   "name": "python",
   "nbconvert_exporter": "python",
   "pygments_lexer": "ipython3",
   "version": "3.12.4"
  }
 },
 "nbformat": 4,
 "nbformat_minor": 5
}
